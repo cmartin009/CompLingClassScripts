{
 "cells": [
  {
   "cell_type": "code",
   "execution_count": 3,
   "metadata": {},
   "outputs": [
    {
     "name": "stdout",
     "output_type": "stream",
     "text": [
      "Please Input your String: Hello My name is Carlos\n",
      " The total number of Vowels in your string:  7\n",
      " The total number of Consonants in your string:  12\n",
      "['H', 'l', 'l', 'M', 'y', 'n', 'm', 's', 'C', 'r', 'l', 's']\n"
     ]
    }
   ],
   "source": [
    "## Problem 9\n",
    "\n",
    "import re\n",
    "\n",
    "import operator \n",
    "\n",
    "pattern = re.compile(r'(a|e|i|o|u)',re.IGNORECASE)\n",
    "pattern2 = re.compile(r'([b-df-hj-np-tv-z])',re.IGNORECASE)\n",
    "search_str= input(\"Please Input your String: \")\n",
    "\n",
    "res = re.findall(pattern, search_str)\n",
    "les = re.findall(pattern2, search_str)\n",
    "Vowelcount= len(res)\n",
    "Consonantcount = len(les)\n",
    "print(\" The total number of Vowels in your string: \",Vowelcount)\n",
    "print(\" The total number of Consonants in your string: \",Consonantcount)\n",
    "print(les)"
   ]
  },
  {
   "cell_type": "code",
   "execution_count": null,
   "metadata": {},
   "outputs": [],
   "source": []
  },
  {
   "cell_type": "code",
   "execution_count": null,
   "metadata": {},
   "outputs": [],
   "source": [
    "import re\n",
    "\n",
    "\n",
    "def gaddafi_matches(filename):\n",
    "\n",
    "    first = \"(M(o|u|ou)(['h`h]?[aA])?|O|Mau)mm?[ea]r?\"\n",
    "\n",
    "    pre_last = '([AEae] [lI][- ])?'\n",
    "\n",
    "    main_last = \"[KQG]h?(a|ua|e|u)([dt]h?(d|h|'|[td]h)?|zz)aff?[yi]\"\n",
    "\n",
    "    last = pre_last + main_last\n",
    "\n",
    "    forward = first + '(\\w+ )*' + last + '( |$)'\n",
    "\n",
    "    backward = last +', '+first\n",
    "\n",
    "    pattern = foward + \"|\" + backward\n",
    "\n",
    "\n",
    "    p = re.compile(pattern)\n",
    "\n",
    "    matches = 0\n",
    "\n",
    "    file =open(filename)\n",
    "\n",
    "\n",
    "    for line in file:\n",
    "        line = line.strip()\n",
    "    \n",
    "        m = p.search(line)\n",
    "    \n",
    "        if m:    \n",
    "            matches = matches+ 1\n",
    "        else:\n",
    "            print(\"Didn't match: \" + line)\n",
    "               \n",
    "    file.close()\n",
    "\n",
    "    print(\"@@@@@ There were\", str(matches)+ \"matches.@@@@\")\n",
    "    \n",
    "gaddafi_matches(\"gaddafi.txt\")\n"
   ]
  },
  {
   "cell_type": "code",
   "execution_count": 5,
   "metadata": {},
   "outputs": [
    {
     "name": "stdout",
     "output_type": "stream",
     "text": [
      "Are you a member? if yes, press 'Y' otherwise press 'N'N\n",
      "Enter the cost of the item: 1500\n",
      "1425.0\n"
     ]
    }
   ],
   "source": [
    "def calculate_cost(original_cost, registered_user):\n",
    "    \n",
    "    if registered_user:\n",
    "        discount =.15\n",
    "        \n",
    "        return original_cost-(original_cost*discount)\n",
    "    else:\n",
    "        discount =.05\n",
    "        \n",
    "        return original_cost-(original_cost*discount)\n",
    "    \n",
    "member_int= 0 \n",
    "member_str=input(\"Are you a member? if yes, press 'Y' otherwise press 'N'\")\n",
    "cost_str=input(\"Enter the cost of the item: \")\n",
    "cost_int =int(cost_str)\n",
    "\n",
    "if(member_str==\"y\"or member_str==\"Y\"):\n",
    "    member_int=1\n",
    "    \n",
    "cost=calculate_cost(cost_int,member_int)\n",
    "\n",
    "print(cost)\n"
   ]
  },
  {
   "cell_type": "code",
   "execution_count": 7,
   "metadata": {},
   "outputs": [
    {
     "name": "stdout",
     "output_type": "stream",
     "text": [
      "Do you hold membership with us? if yes, press 'Y' otherwise press 'N'Y\n",
      "How much does the item cost?: 1500\n",
      "1275.0\n"
     ]
    }
   ],
   "source": [
    "## Problem 11\n",
    "\n",
    "\n",
    "\n",
    "\n",
    "def calculator(original_cost, registered_user):\n",
    "    \n",
    "    if registered_user:\n",
    "        discount =.15\n",
    "        \n",
    "        return original_cost-(original_cost*discount)\n",
    "    else:\n",
    "        discount =.05\n",
    "        \n",
    "        return original_cost-(original_cost*discount)\n",
    "    \n",
    "member_int= 0 \n",
    "member_str=input(\"Do you hold membership with us? if yes, press 'Y' otherwise press 'N'\")\n",
    "cost_str=input(\"How much does the item cost?: \")\n",
    "cost_int =int(cost_str)\n",
    "\n",
    "if(member_str==\"y\"or member_str==\"Y\"):\n",
    "    member_int=1\n",
    "    \n",
    "cost=calculator(cost_int,member_int)\n",
    "\n",
    "print(cost)"
   ]
  },
  {
   "cell_type": "code",
   "execution_count": 10,
   "metadata": {},
   "outputs": [
    {
     "name": "stdout",
     "output_type": "stream",
     "text": [
      "Please Input your String: Hello My name is Carlos\n",
      " The total number of Vowels in your string:  7\n",
      " The total number of Consonants in your string:  12\n",
      "['H', 'l', 'l', 'M', 'y', 'n', 'm', 's', 'C', 'r', 'l', 's']\n"
     ]
    }
   ],
   "source": [
    "def vowelcounter(search_str):\n",
    "    import re\n",
    "\n",
    "\n",
    "    pattern = re.compile(r'(a|e|i|o|u)',re.IGNORECASE)\n",
    "    pattern2 = re.compile(r'([b-df-hj-np-tv-z])',re.IGNORECASE)\n",
    "   \n",
    "\n",
    "    res = re.findall(pattern, search_str)\n",
    "    les = re.findall(pattern2, search_str)\n",
    "    Vowelcount= len(res)\n",
    "    Consonantcount = len(les)\n",
    "    return Vowelcount,Consonantcount\n",
    "search_str= input(\"Please Input your String: \")\n",
    "print(\" The total number of Vowels in your string: \",Vowelcount)\n",
    "print(\" The total number of Consonants in your string: \",Consonantcount)\n",
    "print(les)"
   ]
  },
  {
   "cell_type": "code",
   "execution_count": 12,
   "metadata": {},
   "outputs": [
    {
     "name": "stdout",
     "output_type": "stream",
     "text": [
      "Please enter the year: 2020\n",
      "2020 is a leap year\n"
     ]
    }
   ],
   "source": [
    "def LeapYear(Greg_Year):\n",
    "    \n",
    "    return(Greg_Year%4==0 and Greg_Year%100 !=0)or (Greg_Year%4==0 and Greg_Year%400==0)\n",
    "\n",
    "\n",
    "\n",
    "\n",
    "year_int =int(input(\"Please enter the year: \"))\n",
    "\n",
    "year =LeapYear(year_int)\n",
    "\n",
    "if year == 1:\n",
    "    print(year_int, \"is a leap year\")\n",
    "\n",
    "else:\n",
    "    \n",
    "    print(year_int,\" is not a leap year\")\n",
    "    "
   ]
  },
  {
   "cell_type": "code",
   "execution_count": 15,
   "metadata": {},
   "outputs": [
    {
     "name": "stdout",
     "output_type": "stream",
     "text": [
      "Please enter your message:kjlfaslddfkjldlaklskflsdkjsdfl;ks\n"
     ]
    },
    {
     "ename": "TypeError",
     "evalue": "'str' object is not callable",
     "output_type": "error",
     "traceback": [
      "\u001b[1;31m---------------------------------------------------------------------------\u001b[0m",
      "\u001b[1;31mTypeError\u001b[0m                                 Traceback (most recent call last)",
      "\u001b[1;32m<ipython-input-15-48dbb9b4d80e>\u001b[0m in \u001b[0;36m<module>\u001b[1;34m\u001b[0m\n\u001b[0;32m     10\u001b[0m \u001b[0mmessage\u001b[0m \u001b[1;33m=\u001b[0m\u001b[0minput\u001b[0m\u001b[1;33m(\u001b[0m\u001b[1;34m\"Please enter your message:\"\u001b[0m\u001b[1;33m)\u001b[0m\u001b[1;33m\u001b[0m\u001b[1;33m\u001b[0m\u001b[0m\n\u001b[0;32m     11\u001b[0m \u001b[1;33m\u001b[0m\u001b[0m\n\u001b[1;32m---> 12\u001b[1;33m \u001b[0mreturned_message\u001b[0m\u001b[1;33m=\u001b[0m\u001b[0mmessage\u001b[0m\u001b[1;33m(\u001b[0m\u001b[0mmessage\u001b[0m\u001b[1;33m)\u001b[0m\u001b[1;33m\u001b[0m\u001b[1;33m\u001b[0m\u001b[0m\n\u001b[0m\u001b[0;32m     13\u001b[0m \u001b[1;33m\u001b[0m\u001b[0m\n\u001b[0;32m     14\u001b[0m \u001b[0mprint\u001b[0m\u001b[1;33m(\u001b[0m\u001b[1;34m\"This message will now be sent to the recipient: \"\u001b[0m\u001b[1;33m)\u001b[0m\u001b[1;33m\u001b[0m\u001b[1;33m\u001b[0m\u001b[0m\n",
      "\u001b[1;31mTypeError\u001b[0m: 'str' object is not callable"
     ]
    }
   ],
   "source": [
    "# Problem 15a\n",
    "\n",
    "def message(string):\n",
    "    if len(string)<=160:\n",
    "        return string\n",
    "    else:\n",
    "        string[:160]\n",
    "\n",
    "\n",
    "message =input(\"Please enter your message:\")\n",
    "\n",
    "returned_message=message(message)\n",
    "\n",
    "print(\"This message will now be sent to the recipient: \")\n",
    "\n",
    "print(returned_message)\n",
    "\n",
    "\n"
   ]
  },
  {
   "cell_type": "code",
   "execution_count": 20,
   "metadata": {},
   "outputs": [
    {
     "name": "stdout",
     "output_type": "stream",
     "text": [
      "Please enter your message:William H. Crook\t William H. Crook (October 15, 1839 – March 13, 1915) was one of President Abraham Lincoln's bodyguards in 1865. After Lincoln's assassination (while Crook was off duty), he continued to work in the White House for a total of over 50 years, serving 12 presidents. Crook, a member of the Washington Police Force and a former Union Army soldier, was selected as one of Lincoln's bodyguards in January 1865. On April 14, 1865, the day of Lincoln's assassination, Crook began his shift at 8 am. He was to have been relieved by John Frederick Parker at 4 pm, but Parker was several hours late. Crook tried to persuade the president not to attend a performance of the play Our American Cousin at Ford's Theatre that night, or at le\n",
      "This message will now be sent to the recipient: \n",
      "William H. Crook\t William H. Crook (October 15, 1839 – March 13, 1915) was one of President Abraham Lincoln's bodyguards in 1865. After Lincoln's assassination \n"
     ]
    }
   ],
   "source": [
    "\n",
    "def original_message(string):\n",
    "    if len(string)<=160:\n",
    "        return string\n",
    "    else:\n",
    "        return string[:160]\n",
    "\n",
    "\n",
    "message =input(\"Please enter your message:\")\n",
    "\n",
    "returned_message= original_message(message)\n",
    "\n",
    "print(\"This message will now be sent to the recipient: \")\n",
    "\n",
    "print(returned_message)\n"
   ]
  },
  {
   "cell_type": "code",
   "execution_count": 24,
   "metadata": {},
   "outputs": [
    {
     "name": "stdout",
     "output_type": "stream",
     "text": [
      "Please enter your message:bodyguard, but Lincoln said he had promised his wife they would go. As Lincoln left for the theater, he turned to Crook and said \"Goodbye, Crook\". Before, Lincoln had always said, \"Good night, Crook\". Crook later recalled: \"It was the first time that he neglected to say 'Good Night' to me and it was the only time that he ever said 'Good-bye'. I thought of it at that moment and, a few hours later, when the news flashed over Washington that he had been shot, his last words were so burned into my being that they can never be forgotten.\" Crook blamed Parker, who had left his post at the theater without permission. Crook was later appointed Executive Clerk of the President of the United States in 1870, and Chief Disbursing Officer in 1877, the latter of which he would hold for the rest of his career, up until the presidency of Woodrow W\n",
      "This message will now be sent to the recipient: \n",
      "bodyguard, but Lincoln said he had promised his wife they would go. As Lincoln left for the theater, he turned to Crook and said \"Goodbye, Crook\". Before, Linco\n"
     ]
    }
   ],
   "source": [
    "def message(string):\n",
    "    if len(string)<=160:\n",
    "        return string\n",
    "    else:\n",
    "        return string[:160]\n",
    "\n",
    "\n",
    "in_message =input(\"Please enter your message:\")\n",
    "\n",
    "new_message= message(in_message)\n",
    "\n",
    "print(\"This message will now be sent to the recipient: \")\n",
    "\n",
    "print(new_message)"
   ]
  },
  {
   "cell_type": "code",
   "execution_count": 25,
   "metadata": {},
   "outputs": [
    {
     "name": "stdout",
     "output_type": "stream",
     "text": [
      "20\n"
     ]
    }
   ],
   "source": [
    "def Func(x):\n",
    "    total = 0\n",
    "    for i in range(x):\n",
    "        total += i * (i-1)\n",
    "    return total\n",
    "\n",
    "print(Func(5))"
   ]
  },
  {
   "cell_type": "code",
   "execution_count": null,
   "metadata": {},
   "outputs": [],
   "source": [
    "#30.\n",
    "#Using the find method, write a short program that will print out the index of both ‘o’s\n",
    "#when given the input “Who’s on first?”.\n",
    "import re\n",
    "\n",
    "#pattern = re.compile(r'([b-df-hj-np-tv-z])',re.IGNORECASE)\n",
    "search_str= input(\"Please Input your String: \")\n",
    "\n",
    "#iter = re.finditer(r'[o|O]', search_str)\n",
    "#indices = [m.start(0) for m in iter]\n",
    "\n",
    "#str =\"Who's on first?\"\n",
    "\n",
    "print(\"o index:\")\n",
    "#print(indices)                   \n",
    "\n",
    "print(search_str.find('o'),end='')\n",
    "print(search_str.find('o', str.find('o')+1))\n"
   ]
  },
  {
   "cell_type": "code",
   "execution_count": null,
   "metadata": {},
   "outputs": [],
   "source": []
  }
 ],
 "metadata": {
  "kernelspec": {
   "display_name": "Python 3",
   "language": "python",
   "name": "python3"
  },
  "language_info": {
   "codemirror_mode": {
    "name": "ipython",
    "version": 3
   },
   "file_extension": ".py",
   "mimetype": "text/x-python",
   "name": "python",
   "nbconvert_exporter": "python",
   "pygments_lexer": "ipython3",
   "version": "3.7.4"
  }
 },
 "nbformat": 4,
 "nbformat_minor": 2
}
