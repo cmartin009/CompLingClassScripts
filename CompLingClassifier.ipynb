{
 "cells": [
  {
   "cell_type": "code",
   "execution_count": 1,
   "metadata": {},
   "outputs": [
    {
     "ename": "SyntaxError",
     "evalue": "invalid syntax (<ipython-input-1-38b349f92b36>, line 9)",
     "output_type": "error",
     "traceback": [
      "\u001b[1;36m  File \u001b[1;32m\"<ipython-input-1-38b349f92b36>\"\u001b[1;36m, line \u001b[1;32m9\u001b[0m\n\u001b[1;33m    labeled_names =([name,\"male\") for name in names.words(\"male.txt\")]+([name,\"female\") for name in names.words(\"female.txt\")]\u001b[0m\n\u001b[1;37m                                ^\u001b[0m\n\u001b[1;31mSyntaxError\u001b[0m\u001b[1;31m:\u001b[0m invalid syntax\n"
     ]
    }
   ],
   "source": [
    "def gender_features(words):\n",
    "    return {'Last_letter':word[-1]}\n",
    "\n",
    "print(gender_features(\"Shrek\"))\n",
    "\n",
    "\n",
    "from nltk.corpus import names\n",
    "\n",
    "labeled_names =([name,\"male\") for name in names.words(\"male.txt\")]+([name,\"female\") for name in names.words(\"female.txt\")]\n",
    "                                                                    \n",
    "import random\n",
    "                                                                    \n",
    "                                                                    \n",
    "random.shuffle(labeled_names)\n",
    "feauturesets = [(gender_features(n),gender) for (n,gender) in  labeled_names]\n",
    "                                                                    \n",
    "print(featuresets[0])\n",
    "                                                                    \n",
    "train_set, test_set = featuresets[500:],featuresets[:500]\n",
    "                                                                    \n",
    "print(len(train_set), len(test_set))\n",
    "                                                                    \n",
    "                                                                    "
   ]
  },
  {
   "cell_type": "code",
   "execution_count": null,
   "metadata": {},
   "outputs": [],
   "source": []
  }
 ],
 "metadata": {
  "kernelspec": {
   "display_name": "Python 3",
   "language": "python",
   "name": "python3"
  },
  "language_info": {
   "codemirror_mode": {
    "name": "ipython",
    "version": 3
   },
   "file_extension": ".py",
   "mimetype": "text/x-python",
   "name": "python",
   "nbconvert_exporter": "python",
   "pygments_lexer": "ipython3",
   "version": "3.7.4"
  }
 },
 "nbformat": 4,
 "nbformat_minor": 2
}
